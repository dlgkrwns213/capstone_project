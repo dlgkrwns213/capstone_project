{
 "cells": [
  {
   "cell_type": "code",
   "execution_count": 1,
   "id": "3e4fbcc7-cef5-4c8b-8724-2c560b84a6bb",
   "metadata": {},
   "outputs": [],
   "source": [
    "import numpy as np\n",
    "import cv2\n",
    "import mediapipe as mp\n",
    "import sys\n",
    "import os\n",
    "import pandas as pdQ\n",
    "\n",
    "import multimodel\n",
    "from multimodel import MultiModelDetector"
   ]
  },
  {
   "cell_type": "code",
   "execution_count": null,
   "id": "aaef1dc9-e4c1-45e9-9808-90ce337df937",
   "metadata": {},
   "outputs": [],
   "source": []
  }
 ],
 "metadata": {
  "kernelspec": {
   "display_name": "capenv",
   "language": "python",
   "name": "capenv"
  },
  "language_info": {
   "codemirror_mode": {
    "name": "ipython",
    "version": 3
   },
   "file_extension": ".py",
   "mimetype": "text/x-python",
   "name": "python",
   "nbconvert_exporter": "python",
   "pygments_lexer": "ipython3",
   "version": "3.11.8"
  }
 },
 "nbformat": 4,
 "nbformat_minor": 5
}
